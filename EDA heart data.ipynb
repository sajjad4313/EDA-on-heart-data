{
 "cells": [
  {
   "cell_type": "code",
   "execution_count": 1,
   "id": "7c660948",
   "metadata": {},
   "outputs": [],
   "source": [
    "import numpy as np\n",
    "import pandas as pd\n",
    "import matplotlib.pyplot as plt\n",
    "import seaborn as sns\n",
    "%matplotlib inline"
   ]
  },
  {
   "cell_type": "code",
   "execution_count": 2,
   "id": "9a56ab7f",
   "metadata": {},
   "outputs": [
    {
     "data": {
      "text/html": [
       "<div>\n",
       "<style scoped>\n",
       "    .dataframe tbody tr th:only-of-type {\n",
       "        vertical-align: middle;\n",
       "    }\n",
       "\n",
       "    .dataframe tbody tr th {\n",
       "        vertical-align: top;\n",
       "    }\n",
       "\n",
       "    .dataframe thead th {\n",
       "        text-align: right;\n",
       "    }\n",
       "</style>\n",
       "<table border=\"1\" class=\"dataframe\">\n",
       "  <thead>\n",
       "    <tr style=\"text-align: right;\">\n",
       "      <th></th>\n",
       "      <th>rest_bp</th>\n",
       "      <th>chest_pain</th>\n",
       "      <th>thalassemia</th>\n",
       "      <th>age</th>\n",
       "      <th>fasting_bs</th>\n",
       "      <th>max_hr</th>\n",
       "      <th>exercise_angina</th>\n",
       "      <th>gender</th>\n",
       "      <th>st_slope</th>\n",
       "      <th>cholesterol</th>\n",
       "      <th>st_depression</th>\n",
       "      <th>rest_ecg</th>\n",
       "      <th>num_vessels</th>\n",
       "      <th>diagnosis</th>\n",
       "    </tr>\n",
       "  </thead>\n",
       "  <tbody>\n",
       "    <tr>\n",
       "      <th>0</th>\n",
       "      <td>106</td>\n",
       "      <td>extreme</td>\n",
       "      <td>0</td>\n",
       "      <td>67</td>\n",
       "      <td>no</td>\n",
       "      <td>142</td>\n",
       "      <td>no angina</td>\n",
       "      <td>female</td>\n",
       "      <td>0</td>\n",
       "      <td>223</td>\n",
       "      <td>0.3</td>\n",
       "      <td>0</td>\n",
       "      <td>2</td>\n",
       "      <td>no</td>\n",
       "    </tr>\n",
       "    <tr>\n",
       "      <th>1</th>\n",
       "      <td>120</td>\n",
       "      <td>high</td>\n",
       "      <td>0</td>\n",
       "      <td>50</td>\n",
       "      <td>no</td>\n",
       "      <td>158</td>\n",
       "      <td>no angina</td>\n",
       "      <td>female</td>\n",
       "      <td>1</td>\n",
       "      <td>219</td>\n",
       "      <td>1.6</td>\n",
       "      <td>0</td>\n",
       "      <td>0</td>\n",
       "      <td>no</td>\n",
       "    </tr>\n",
       "    <tr>\n",
       "      <th>2</th>\n",
       "      <td>126</td>\n",
       "      <td>extreme</td>\n",
       "      <td>2</td>\n",
       "      <td>35</td>\n",
       "      <td>no</td>\n",
       "      <td>156</td>\n",
       "      <td>angina</td>\n",
       "      <td>male</td>\n",
       "      <td>0</td>\n",
       "      <td>282</td>\n",
       "      <td>0.0</td>\n",
       "      <td>2</td>\n",
       "      <td>0</td>\n",
       "      <td>yes</td>\n",
       "    </tr>\n",
       "    <tr>\n",
       "      <th>3</th>\n",
       "      <td>150</td>\n",
       "      <td>extreme</td>\n",
       "      <td>2</td>\n",
       "      <td>63</td>\n",
       "      <td>no</td>\n",
       "      <td>154</td>\n",
       "      <td>no angina</td>\n",
       "      <td>female</td>\n",
       "      <td>1</td>\n",
       "      <td>407</td>\n",
       "      <td>4.0</td>\n",
       "      <td>2</td>\n",
       "      <td>3</td>\n",
       "      <td>yes</td>\n",
       "    </tr>\n",
       "    <tr>\n",
       "      <th>4</th>\n",
       "      <td>140</td>\n",
       "      <td>extreme</td>\n",
       "      <td>2</td>\n",
       "      <td>46</td>\n",
       "      <td>no</td>\n",
       "      <td>120</td>\n",
       "      <td>angina</td>\n",
       "      <td>male</td>\n",
       "      <td>1</td>\n",
       "      <td>311</td>\n",
       "      <td>1.8</td>\n",
       "      <td>0</td>\n",
       "      <td>2</td>\n",
       "      <td>yes</td>\n",
       "    </tr>\n",
       "  </tbody>\n",
       "</table>\n",
       "</div>"
      ],
      "text/plain": [
       "   rest_bp chest_pain  thalassemia  age fasting_bs  max_hr exercise_angina  \\\n",
       "0      106    extreme            0   67         no     142       no angina   \n",
       "1      120       high            0   50         no     158       no angina   \n",
       "2      126    extreme            2   35         no     156          angina   \n",
       "3      150    extreme            2   63         no     154       no angina   \n",
       "4      140    extreme            2   46         no     120          angina   \n",
       "\n",
       "   gender  st_slope  cholesterol  st_depression  rest_ecg  num_vessels  \\\n",
       "0  female         0          223            0.3         0            2   \n",
       "1  female         1          219            1.6         0            0   \n",
       "2    male         0          282            0.0         2            0   \n",
       "3  female         1          407            4.0         2            3   \n",
       "4    male         1          311            1.8         0            2   \n",
       "\n",
       "  diagnosis  \n",
       "0        no  \n",
       "1        no  \n",
       "2       yes  \n",
       "3       yes  \n",
       "4       yes  "
      ]
     },
     "execution_count": 2,
     "metadata": {},
     "output_type": "execute_result"
    }
   ],
   "source": [
    "df=pd.read_csv(\"C:\\\\Users\\\\Sajjad PC\\\\Desktop\\\\temp\\\\New folder\\\\heart_data.csv\")\n",
    "df.head()"
   ]
  },
  {
   "cell_type": "code",
   "execution_count": 3,
   "id": "bc6d1e7c",
   "metadata": {},
   "outputs": [
    {
     "data": {
      "text/plain": [
       "(297, 14)"
      ]
     },
     "execution_count": 3,
     "metadata": {},
     "output_type": "execute_result"
    }
   ],
   "source": [
    "df.shape"
   ]
  },
  {
   "cell_type": "code",
   "execution_count": 4,
   "id": "1363ebca",
   "metadata": {},
   "outputs": [],
   "source": [
    "#labeling the catogorical and numerical columns\n",
    "# catogorical columns =rest_bp,chest_pain,thalassemia,exercise_angina,gender,st_slope,num_vessels,diagnosis\n",
    "# numerical columns=age,fasting_bs,max_hr,cholesterol,st_depression,rest_ecg\n",
    "#after that the uni variate analysis as"
   ]
  },
  {
   "cell_type": "code",
   "execution_count": 5,
   "id": "83c7457a",
   "metadata": {},
   "outputs": [
    {
     "data": {
      "text/plain": [
       "Index(['rest_bp', 'chest_pain', 'thalassemia', 'age', 'fasting_bs', 'max_hr',\n",
       "       'exercise_angina', 'gender', 'st_slope', 'cholesterol', 'st_depression',\n",
       "       'rest_ecg', 'num_vessels', 'diagnosis'],\n",
       "      dtype='object')"
      ]
     },
     "execution_count": 5,
     "metadata": {},
     "output_type": "execute_result"
    }
   ],
   "source": [
    "df.columns"
   ]
  },
  {
   "cell_type": "code",
   "execution_count": 6,
   "id": "56780aac",
   "metadata": {
    "scrolled": true
   },
   "outputs": [
    {
     "data": {
      "text/plain": [
       "<Axes: ylabel='Density'>"
      ]
     },
     "execution_count": 6,
     "metadata": {},
     "output_type": "execute_result"
    },
    {
     "data": {
      "image/png": "[encoded data removed]",
      "text/plain": [
       "<Figure size 640x480 with 1 Axes>"
      ]
     },
     "metadata": {},
     "output_type": "display_data"
    }
   ],
   "source": [
    "df['rest_bp'].plot(kind='kde')"
   ]
  },
  {
   "cell_type": "code",
   "execution_count": 7,
   "id": "c2b05142",
   "metadata": {},
   "outputs": [
    {
     "data": {
      "text/plain": [
       "131.69360269360268"
      ]
     },
     "execution_count": 7,
     "metadata": {},
     "output_type": "execute_result"
    }
   ],
   "source": [
    "df['rest_bp'].mean()"
   ]
  },
  {
   "cell_type": "code",
   "execution_count": 8,
   "id": "e8833e76",
   "metadata": {},
   "outputs": [
    {
     "data": {
      "text/plain": [
       "0"
      ]
     },
     "execution_count": 8,
     "metadata": {},
     "output_type": "execute_result"
    }
   ],
   "source": [
    "df['rest_bp'].isnull().sum()"
   ]
  },
  {
   "cell_type": "code",
   "execution_count": 9,
   "id": "51dc9ea1",
   "metadata": {},
   "outputs": [
    {
     "data": {
      "text/plain": [
       "<Axes: >"
      ]
     },
     "execution_count": 9,
     "metadata": {},
     "output_type": "execute_result"
    },
    {
     "data": {
      "image/png": "[encoded data removed]",
      "text/plain": [
       "<Figure size 640x480 with 1 Axes>"
      ]
     },
     "metadata": {},
     "output_type": "display_data"
    }
   ],
   "source": [
    "df['rest_bp'].plot(kind='box')"
   ]
  },
  {
   "cell_type": "code",
   "execution_count": 10,
   "id": "09154ca9",
   "metadata": {},
   "outputs": [
    {
     "data": {
      "text/html": [
       "<div>\n",
       "<style scoped>\n",
       "    .dataframe tbody tr th:only-of-type {\n",
       "        vertical-align: middle;\n",
       "    }\n",
       "\n",
       "    .dataframe tbody tr th {\n",
       "        vertical-align: top;\n",
       "    }\n",
       "\n",
       "    .dataframe thead th {\n",
       "        text-align: right;\n",
       "    }\n",
       "</style>\n",
       "<table border=\"1\" class=\"dataframe\">\n",
       "  <thead>\n",
       "    <tr style=\"text-align: right;\">\n",
       "      <th></th>\n",
       "      <th>rest_bp</th>\n",
       "      <th>chest_pain</th>\n",
       "      <th>thalassemia</th>\n",
       "      <th>age</th>\n",
       "      <th>fasting_bs</th>\n",
       "      <th>max_hr</th>\n",
       "      <th>exercise_angina</th>\n",
       "      <th>gender</th>\n",
       "      <th>st_slope</th>\n",
       "      <th>cholesterol</th>\n",
       "      <th>st_depression</th>\n",
       "      <th>rest_ecg</th>\n",
       "      <th>num_vessels</th>\n",
       "      <th>diagnosis</th>\n",
       "    </tr>\n",
       "  </thead>\n",
       "  <tbody>\n",
       "    <tr>\n",
       "      <th>11</th>\n",
       "      <td>172</td>\n",
       "      <td>high</td>\n",
       "      <td>2</td>\n",
       "      <td>52</td>\n",
       "      <td>yes</td>\n",
       "      <td>162</td>\n",
       "      <td>no angina</td>\n",
       "      <td>male</td>\n",
       "      <td>0</td>\n",
       "      <td>199</td>\n",
       "      <td>0.5</td>\n",
       "      <td>0</td>\n",
       "      <td>0</td>\n",
       "      <td>no</td>\n",
       "    </tr>\n",
       "    <tr>\n",
       "      <th>22</th>\n",
       "      <td>180</td>\n",
       "      <td>high</td>\n",
       "      <td>2</td>\n",
       "      <td>68</td>\n",
       "      <td>yes</td>\n",
       "      <td>150</td>\n",
       "      <td>angina</td>\n",
       "      <td>male</td>\n",
       "      <td>1</td>\n",
       "      <td>274</td>\n",
       "      <td>1.6</td>\n",
       "      <td>2</td>\n",
       "      <td>0</td>\n",
       "      <td>yes</td>\n",
       "    </tr>\n",
       "    <tr>\n",
       "      <th>25</th>\n",
       "      <td>192</td>\n",
       "      <td>rare</td>\n",
       "      <td>2</td>\n",
       "      <td>54</td>\n",
       "      <td>no</td>\n",
       "      <td>195</td>\n",
       "      <td>no angina</td>\n",
       "      <td>male</td>\n",
       "      <td>0</td>\n",
       "      <td>283</td>\n",
       "      <td>0.0</td>\n",
       "      <td>2</td>\n",
       "      <td>1</td>\n",
       "      <td>yes</td>\n",
       "    </tr>\n",
       "    <tr>\n",
       "      <th>29</th>\n",
       "      <td>174</td>\n",
       "      <td>extreme</td>\n",
       "      <td>0</td>\n",
       "      <td>59</td>\n",
       "      <td>no</td>\n",
       "      <td>143</td>\n",
       "      <td>angina</td>\n",
       "      <td>female</td>\n",
       "      <td>1</td>\n",
       "      <td>249</td>\n",
       "      <td>0.0</td>\n",
       "      <td>0</td>\n",
       "      <td>0</td>\n",
       "      <td>yes</td>\n",
       "    </tr>\n",
       "    <tr>\n",
       "      <th>90</th>\n",
       "      <td>178</td>\n",
       "      <td>extreme</td>\n",
       "      <td>2</td>\n",
       "      <td>66</td>\n",
       "      <td>yes</td>\n",
       "      <td>165</td>\n",
       "      <td>angina</td>\n",
       "      <td>female</td>\n",
       "      <td>1</td>\n",
       "      <td>228</td>\n",
       "      <td>1.0</td>\n",
       "      <td>0</td>\n",
       "      <td>2</td>\n",
       "      <td>yes</td>\n",
       "    </tr>\n",
       "    <tr>\n",
       "      <th>143</th>\n",
       "      <td>178</td>\n",
       "      <td>no pain</td>\n",
       "      <td>2</td>\n",
       "      <td>59</td>\n",
       "      <td>no</td>\n",
       "      <td>145</td>\n",
       "      <td>no angina</td>\n",
       "      <td>male</td>\n",
       "      <td>2</td>\n",
       "      <td>270</td>\n",
       "      <td>4.2</td>\n",
       "      <td>2</td>\n",
       "      <td>0</td>\n",
       "      <td>no</td>\n",
       "    </tr>\n",
       "    <tr>\n",
       "      <th>214</th>\n",
       "      <td>200</td>\n",
       "      <td>extreme</td>\n",
       "      <td>2</td>\n",
       "      <td>56</td>\n",
       "      <td>yes</td>\n",
       "      <td>133</td>\n",
       "      <td>angina</td>\n",
       "      <td>female</td>\n",
       "      <td>2</td>\n",
       "      <td>288</td>\n",
       "      <td>4.0</td>\n",
       "      <td>2</td>\n",
       "      <td>2</td>\n",
       "      <td>yes</td>\n",
       "    </tr>\n",
       "    <tr>\n",
       "      <th>248</th>\n",
       "      <td>180</td>\n",
       "      <td>extreme</td>\n",
       "      <td>0</td>\n",
       "      <td>64</td>\n",
       "      <td>no</td>\n",
       "      <td>154</td>\n",
       "      <td>angina</td>\n",
       "      <td>female</td>\n",
       "      <td>0</td>\n",
       "      <td>325</td>\n",
       "      <td>0.0</td>\n",
       "      <td>0</td>\n",
       "      <td>0</td>\n",
       "      <td>no</td>\n",
       "    </tr>\n",
       "    <tr>\n",
       "      <th>255</th>\n",
       "      <td>180</td>\n",
       "      <td>extreme</td>\n",
       "      <td>0</td>\n",
       "      <td>55</td>\n",
       "      <td>no</td>\n",
       "      <td>117</td>\n",
       "      <td>angina</td>\n",
       "      <td>female</td>\n",
       "      <td>1</td>\n",
       "      <td>327</td>\n",
       "      <td>3.4</td>\n",
       "      <td>1</td>\n",
       "      <td>0</td>\n",
       "      <td>yes</td>\n",
       "    </tr>\n",
       "  </tbody>\n",
       "</table>\n",
       "</div>"
      ],
      "text/plain": [
       "     rest_bp chest_pain  thalassemia  age fasting_bs  max_hr exercise_angina  \\\n",
       "11       172       high            2   52        yes     162       no angina   \n",
       "22       180       high            2   68        yes     150          angina   \n",
       "25       192       rare            2   54         no     195       no angina   \n",
       "29       174    extreme            0   59         no     143          angina   \n",
       "90       178    extreme            2   66        yes     165          angina   \n",
       "143      178    no pain            2   59         no     145       no angina   \n",
       "214      200    extreme            2   56        yes     133          angina   \n",
       "248      180    extreme            0   64         no     154          angina   \n",
       "255      180    extreme            0   55         no     117          angina   \n",
       "\n",
       "     gender  st_slope  cholesterol  st_depression  rest_ecg  num_vessels  \\\n",
       "11     male         0          199            0.5         0            0   \n",
       "22     male         1          274            1.6         2            0   \n",
       "25     male         0          283            0.0         2            1   \n",
       "29   female         1          249            0.0         0            0   \n",
       "90   female         1          228            1.0         0            2   \n",
       "143    male         2          270            4.2         2            0   \n",
       "214  female         2          288            4.0         2            2   \n",
       "248  female         0          325            0.0         0            0   \n",
       "255  female         1          327            3.4         1            0   \n",
       "\n",
       "    diagnosis  \n",
       "11         no  \n",
       "22        yes  \n",
       "25        yes  \n",
       "29        yes  \n",
       "90        yes  \n",
       "143        no  \n",
       "214       yes  \n",
       "248        no  \n",
       "255       yes  "
      ]
     },
     "execution_count": 10,
     "metadata": {},
     "output_type": "execute_result"
    }
   ],
   "source": [
    "df[df['rest_bp']>170]"
   ]
  },
  {
   "cell_type": "code",
   "execution_count": 11,
   "id": "72d47ea6",
   "metadata": {},
   "outputs": [
    {
     "data": {
      "text/plain": [
       "0.7000697177568133"
      ]
     },
     "execution_count": 11,
     "metadata": {},
     "output_type": "execute_result"
    }
   ],
   "source": [
    "df['rest_bp'].skew()"
   ]
  },
  {
   "cell_type": "code",
   "execution_count": 12,
   "id": "156298fd",
   "metadata": {},
   "outputs": [
    {
     "data": {
      "text/plain": [
       "131.69360269360268"
      ]
     },
     "execution_count": 12,
     "metadata": {},
     "output_type": "execute_result"
    }
   ],
   "source": [
    "df['rest_bp'].mean()"
   ]
  },
  {
   "cell_type": "code",
   "execution_count": 13,
   "id": "11820918",
   "metadata": {},
   "outputs": [],
   "source": [
    "#conclusion of column rest bp\n",
    "# there are no outliers,the outliers showed in boxplot are actually real data becouse the rest bp can be above 180 and below 90\n",
    "# there is no null value in the columns \n",
    "#the skew value is 0.7 is not compleatly 0 but we can transform it later(before applying the Machine learning model)\n",
    "#\n"
   ]
  },
  {
   "cell_type": "code",
   "execution_count": 14,
   "id": "bec234e1",
   "metadata": {},
   "outputs": [],
   "source": [
    "#uni variate analysis on column age"
   ]
  },
  {
   "cell_type": "code",
   "execution_count": 15,
   "id": "9acc3883",
   "metadata": {
    "scrolled": true
   },
   "outputs": [
    {
     "data": {
      "text/plain": [
       "0"
      ]
     },
     "execution_count": 15,
     "metadata": {},
     "output_type": "execute_result"
    }
   ],
   "source": [
    "df['age'].isnull().sum()"
   ]
  },
  {
   "cell_type": "code",
   "execution_count": null,
   "id": "6aad2234",
   "metadata": {},
   "outputs": [],
   "source": []
  },
  {
   "cell_type": "code",
   "execution_count": 16,
   "id": "53130fb9",
   "metadata": {},
   "outputs": [
    {
     "data": {
      "text/plain": [
       "54.54208754208754"
      ]
     },
     "execution_count": 16,
     "metadata": {},
     "output_type": "execute_result"
    }
   ],
   "source": [
    "df['age'].mean()"
   ]
  },
  {
   "cell_type": "code",
   "execution_count": 17,
   "id": "efd3c7fd",
   "metadata": {},
   "outputs": [
    {
     "data": {
      "text/plain": [
       "count    297.000000\n",
       "mean      54.542088\n",
       "std        9.049736\n",
       "min       29.000000\n",
       "25%       48.000000\n",
       "50%       56.000000\n",
       "75%       61.000000\n",
       "max       77.000000\n",
       "Name: age, dtype: float64"
      ]
     },
     "execution_count": 17,
     "metadata": {},
     "output_type": "execute_result"
    }
   ],
   "source": [
    "df['age'].describe()"
   ]
  },
  {
   "cell_type": "code",
   "execution_count": 18,
   "id": "e7094ed0",
   "metadata": {},
   "outputs": [
    {
     "data": {
      "text/plain": [
       "<Axes: ylabel='Density'>"
      ]
     },
     "execution_count": 18,
     "metadata": {},
     "output_type": "execute_result"
    },
    {
     "data": {
      "image/png": "[encoded data removed]",
      "text/plain": [
       "<Figure size 640x480 with 1 Axes>"
      ]
     },
     "metadata": {},
     "output_type": "display_data"
    }
   ],
   "source": [
    "df['age'].plot(kind='kde')"
   ]
  },
  {
   "cell_type": "code",
   "execution_count": 19,
   "id": "2566bf5a",
   "metadata": {},
   "outputs": [
    {
     "data": {
      "text/plain": [
       "<Axes: >"
      ]
     },
     "execution_count": 19,
     "metadata": {},
     "output_type": "execute_result"
    },
    {
     "data": {
      "image/png": "[encoded data removed]",
      "text/plain": [
       "<Figure size 640x480 with 1 Axes>"
      ]
     },
     "metadata": {},
     "output_type": "display_data"
    }
   ],
   "source": [
    "df['age'].plot(kind='box')"
   ]
  },
  {
   "cell_type": "code",
   "execution_count": 20,
   "id": "2a22d614",
   "metadata": {},
   "outputs": [
    {
     "data": {
      "text/plain": [
       "-0.21977452171636244"
      ]
     },
     "execution_count": 20,
     "metadata": {},
     "output_type": "execute_result"
    }
   ],
   "source": [
    "df['age'].skew()"
   ]
  },
  {
   "cell_type": "code",
   "execution_count": 21,
   "id": "e4572ad0",
   "metadata": {},
   "outputs": [],
   "source": [
    "#conclusion of column age\n",
    "# there are no outliers\n",
    "# there is no null value in the columns \n",
    "#the skew value is 0.2 "
   ]
  },
  {
   "cell_type": "code",
   "execution_count": 22,
   "id": "3fc37a8b",
   "metadata": {},
   "outputs": [],
   "source": [
    "#uni variate analysis on column max_hr"
   ]
  },
  {
   "cell_type": "code",
   "execution_count": 23,
   "id": "895ecc9e",
   "metadata": {},
   "outputs": [
    {
     "data": {
      "text/plain": [
       "0"
      ]
     },
     "execution_count": 23,
     "metadata": {},
     "output_type": "execute_result"
    }
   ],
   "source": [
    "df['max_hr'].isnull().sum()"
   ]
  },
  {
   "cell_type": "code",
   "execution_count": 24,
   "id": "118b50a7",
   "metadata": {},
   "outputs": [
    {
     "data": {
      "text/plain": [
       "<Axes: >"
      ]
     },
     "execution_count": 24,
     "metadata": {},
     "output_type": "execute_result"
    },
    {
     "data": {
      "image/png": "[encoded data removed]",
      "text/plain": [
       "<Figure size 640x480 with 1 Axes>"
      ]
     },
     "metadata": {},
     "output_type": "display_data"
    }
   ],
   "source": [
    "df['max_hr'].plot(kind='box')"
   ]
  },
  {
   "cell_type": "code",
   "execution_count": 25,
   "id": "3aac9bf0",
   "metadata": {},
   "outputs": [
    {
     "data": {
      "text/plain": [
       "count    297.000000\n",
       "mean     149.599327\n",
       "std       22.941562\n",
       "min       71.000000\n",
       "25%      133.000000\n",
       "50%      153.000000\n",
       "75%      166.000000\n",
       "max      202.000000\n",
       "Name: max_hr, dtype: float64"
      ]
     },
     "execution_count": 25,
     "metadata": {},
     "output_type": "execute_result"
    }
   ],
   "source": [
    "df['max_hr'].describe()"
   ]
  },
  {
   "cell_type": "code",
   "execution_count": 26,
   "id": "e7485061",
   "metadata": {},
   "outputs": [
    {
     "data": {
      "text/plain": [
       "<Axes: ylabel='Density'>"
      ]
     },
     "execution_count": 26,
     "metadata": {},
     "output_type": "execute_result"
    },
    {
     "data": {
      "image/png": "[encoded data removed]",
      "text/plain": [
       "<Figure size 640x480 with 1 Axes>"
      ]
     },
     "metadata": {},
     "output_type": "display_data"
    }
   ],
   "source": [
    "df['max_hr'].plot(kind='kde')"
   ]
  },
  {
   "cell_type": "code",
   "execution_count": 27,
   "id": "cca44a09",
   "metadata": {},
   "outputs": [
    {
     "data": {
      "text/plain": [
       "-0.5365400799355461"
      ]
     },
     "execution_count": 27,
     "metadata": {},
     "output_type": "execute_result"
    }
   ],
   "source": [
    "df['max_hr'].skew()"
   ]
  },
  {
   "cell_type": "code",
   "execution_count": 28,
   "id": "8bd8f9ec",
   "metadata": {},
   "outputs": [],
   "source": [
    "#conclusion of column maximun heart rate\n",
    "# there are no outliers the boxplot shows single outlier which is real value.\n",
    "# there is no null value in the columns \n",
    "#the skew value is -0.5 if needed we can normalize it later before feature engineering"
   ]
  },
  {
   "cell_type": "code",
   "execution_count": 29,
   "id": "9d805e0d",
   "metadata": {},
   "outputs": [],
   "source": [
    "#uni variate analysis on column cholesterol"
   ]
  },
  {
   "cell_type": "code",
   "execution_count": 30,
   "id": "bc353db0",
   "metadata": {},
   "outputs": [
    {
     "data": {
      "text/plain": [
       "count    297.000000\n",
       "mean     247.350168\n",
       "std       51.997583\n",
       "min      126.000000\n",
       "25%      211.000000\n",
       "50%      243.000000\n",
       "75%      276.000000\n",
       "max      564.000000\n",
       "Name: cholesterol, dtype: float64"
      ]
     },
     "execution_count": 30,
     "metadata": {},
     "output_type": "execute_result"
    }
   ],
   "source": [
    "df['cholesterol'].describe()"
   ]
  },
  {
   "cell_type": "code",
   "execution_count": 31,
   "id": "cb035b64",
   "metadata": {},
   "outputs": [
    {
     "data": {
      "text/plain": [
       "0"
      ]
     },
     "execution_count": 31,
     "metadata": {},
     "output_type": "execute_result"
    }
   ],
   "source": [
    "df['cholesterol'].isnull().sum()"
   ]
  },
  {
   "cell_type": "code",
   "execution_count": 32,
   "id": "c7227fd0",
   "metadata": {
    "scrolled": true
   },
   "outputs": [
    {
     "data": {
      "text/plain": [
       "<Axes: >"
      ]
     },
     "execution_count": 32,
     "metadata": {},
     "output_type": "execute_result"
    },
    {
     "data": {
      "image/png": "[encoded data removed]",
      "text/plain": [
       "<Figure size 640x480 with 1 Axes>"
      ]
     },
     "metadata": {},
     "output_type": "display_data"
    }
   ],
   "source": [
    "df['cholesterol'].plot(kind='box')"
   ]
  },
  {
   "cell_type": "code",
   "execution_count": 33,
   "id": "e5b2b064",
   "metadata": {},
   "outputs": [
    {
     "data": {
      "text/plain": [
       "1.118095522567128"
      ]
     },
     "execution_count": 33,
     "metadata": {},
     "output_type": "execute_result"
    }
   ],
   "source": [
    "df['cholesterol'].skew()"
   ]
  },
  {
   "cell_type": "code",
   "execution_count": 34,
   "id": "6277e073",
   "metadata": {},
   "outputs": [],
   "source": [
    "#conclusion of column cholestrol\n",
    "# there are no outliers the boxplot shows the outlier which is real value.\n",
    "# there is no null value in the columns \n",
    "#the skew value is 1.1 if needed we can normalize it later before feature engineering"
   ]
  },
  {
   "cell_type": "code",
   "execution_count": 35,
   "id": "2a83b386",
   "metadata": {},
   "outputs": [
    {
     "data": {
      "text/plain": [
       "<Axes: ylabel='Density'>"
      ]
     },
     "execution_count": 35,
     "metadata": {},
     "output_type": "execute_result"
    },
    {
     "data": {
      "image/png": "[encoded data removed]",
      "text/plain": [
       "<Figure size 640x480 with 1 Axes>"
      ]
     },
     "metadata": {},
     "output_type": "display_data"
    }
   ],
   "source": [
    "df['st_depression'].plot(kind='kde')"
   ]
  },
  {
   "cell_type": "code",
   "execution_count": 36,
   "id": "c40f8f68",
   "metadata": {},
   "outputs": [
    {
     "data": {
      "text/plain": [
       "count    297.000000\n",
       "mean       1.055556\n",
       "std        1.166123\n",
       "min        0.000000\n",
       "25%        0.000000\n",
       "50%        0.800000\n",
       "75%        1.600000\n",
       "max        6.200000\n",
       "Name: st_depression, dtype: float64"
      ]
     },
     "execution_count": 36,
     "metadata": {},
     "output_type": "execute_result"
    }
   ],
   "source": [
    "df['st_depression'].describe()"
   ]
  },
  {
   "cell_type": "code",
   "execution_count": 37,
   "id": "5d075ceb",
   "metadata": {},
   "outputs": [
    {
     "data": {
      "text/plain": [
       "0"
      ]
     },
     "execution_count": 37,
     "metadata": {},
     "output_type": "execute_result"
    }
   ],
   "source": [
    "df['st_depression'].isnull().sum()"
   ]
  },
  {
   "cell_type": "code",
   "execution_count": 38,
   "id": "fe660007",
   "metadata": {},
   "outputs": [
    {
     "data": {
      "text/plain": [
       "<Axes: >"
      ]
     },
     "execution_count": 38,
     "metadata": {},
     "output_type": "execute_result"
    },
    {
     "data": {
      "image/png": "[encoded data removed]",
      "text/plain": [
       "<Figure size 640x480 with 1 Axes>"
      ]
     },
     "metadata": {},
     "output_type": "display_data"
    }
   ],
   "source": [
    "df['st_depression'].plot(kind='box')"
   ]
  },
  {
   "cell_type": "code",
   "execution_count": 39,
   "id": "cec0c3cf",
   "metadata": {},
   "outputs": [
    {
     "data": {
      "text/plain": [
       "1.2471313241482949"
      ]
     },
     "execution_count": 39,
     "metadata": {},
     "output_type": "execute_result"
    }
   ],
   "source": [
    "df['st_depression'].skew()"
   ]
  },
  {
   "cell_type": "code",
   "execution_count": 40,
   "id": "56b67336",
   "metadata": {},
   "outputs": [],
   "source": [
    "#conclusion of column st_depression\n",
    "# there are no outliers the boxplot shows the outlier which is real value.\n",
    "# there is no null value in the columns \n",
    "#the skew value is 1.2 if needed we can normalize it later before feature engineering"
   ]
  },
  {
   "cell_type": "code",
   "execution_count": 41,
   "id": "26ae3161",
   "metadata": {},
   "outputs": [],
   "source": [
    "# now univariate analysis on catogorical columns or features\n",
    "# catogorical columns =chest_pain,thalassemia,exercise_angina,gender,st_slope,num_vessels,diagnosis\n"
   ]
  },
  {
   "cell_type": "code",
   "execution_count": 42,
   "id": "6247a0b8",
   "metadata": {},
   "outputs": [
    {
     "data": {
      "text/plain": [
       "Index(['rest_bp', 'chest_pain', 'thalassemia', 'age', 'fasting_bs', 'max_hr',\n",
       "       'exercise_angina', 'gender', 'st_slope', 'cholesterol', 'st_depression',\n",
       "       'rest_ecg', 'num_vessels', 'diagnosis'],\n",
       "      dtype='object')"
      ]
     },
     "execution_count": 42,
     "metadata": {},
     "output_type": "execute_result"
    }
   ],
   "source": [
    "df.columns"
   ]
  },
  {
   "cell_type": "code",
   "execution_count": 43,
   "id": "210c3fc3",
   "metadata": {},
   "outputs": [
    {
     "data": {
      "text/plain": [
       "<Axes: xlabel='chest_pain', ylabel='count'>"
      ]
     },
     "execution_count": 43,
     "metadata": {},
     "output_type": "execute_result"
    },
    {
     "data": {
      "image/png": "[encoded data removed]",
      "text/plain": [
       "<Figure size 640x480 with 1 Axes>"
      ]
     },
     "metadata": {},
     "output_type": "display_data"
    }
   ],
   "source": [
    "sns.countplot(x=df['chest_pain'],data=df)\n"
   ]
  },
  {
   "cell_type": "code",
   "execution_count": 44,
   "id": "604e9af8",
   "metadata": {},
   "outputs": [],
   "source": [
    "df['index']=df.index+1"
   ]
  },
  {
   "cell_type": "code",
   "execution_count": 45,
   "id": "034a9a7a",
   "metadata": {},
   "outputs": [
    {
     "data": {
      "text/plain": [
       "<Axes: ylabel='count'>"
      ]
     },
     "execution_count": 45,
     "metadata": {},
     "output_type": "execute_result"
    },
    {
     "data": {
      "image/png": "[encoded data removed]",
      "text/plain": [
       "<Figure size 640x480 with 1 Axes>"
      ]
     },
     "metadata": {},
     "output_type": "display_data"
    }
   ],
   "source": [
    "df['chest_pain'].value_counts().plot(kind='pie',autopct='%1.1f%%')\n"
   ]
  },
  {
   "cell_type": "code",
   "execution_count": 46,
   "id": "20da8c92",
   "metadata": {},
   "outputs": [
    {
     "data": {
      "text/plain": [
       "<Axes: xlabel='exercise_angina', ylabel='count'>"
      ]
     },
     "execution_count": 46,
     "metadata": {},
     "output_type": "execute_result"
    },
    {
     "data": {
      "image/png": "[encoded data removed]",
      "text/plain": [
       "<Figure size 640x480 with 1 Axes>"
      ]
     },
     "metadata": {},
     "output_type": "display_data"
    }
   ],
   "source": [
    "\n",
    "sns.countplot(x=df['exercise_angina'],data=df)"
   ]
  },
  {
   "cell_type": "code",
   "execution_count": 47,
   "id": "a76a9930",
   "metadata": {},
   "outputs": [
    {
     "data": {
      "text/plain": [
       "exercise_angina\n",
       "no angina    200\n",
       "angina        97\n",
       "Name: count, dtype: int64"
      ]
     },
     "execution_count": 47,
     "metadata": {},
     "output_type": "execute_result"
    }
   ],
   "source": [
    "df['exercise_angina'].value_counts()"
   ]
  },
  {
   "cell_type": "code",
   "execution_count": 48,
   "id": "7a6edb5c",
   "metadata": {
    "scrolled": true
   },
   "outputs": [
    {
     "data": {
      "text/plain": [
       "<Axes: ylabel='count'>"
      ]
     },
     "execution_count": 48,
     "metadata": {},
     "output_type": "execute_result"
    },
    {
     "data": {
      "image/png": "[encoded data removed]",
      "text/plain": [
       "<Figure size 640x480 with 1 Axes>"
      ]
     },
     "metadata": {},
     "output_type": "display_data"
    }
   ],
   "source": [
    "df['exercise_angina'].value_counts().plot(kind='pie',autopct='%1.1f%%')"
   ]
  },
  {
   "cell_type": "code",
   "execution_count": 49,
   "id": "6fdd3e79",
   "metadata": {},
   "outputs": [
    {
     "data": {
      "text/plain": [
       "0"
      ]
     },
     "execution_count": 49,
     "metadata": {},
     "output_type": "execute_result"
    }
   ],
   "source": [
    "df['gender'].isnull().sum()"
   ]
  },
  {
   "cell_type": "code",
   "execution_count": 50,
   "id": "6c2e7fcb",
   "metadata": {
    "scrolled": true
   },
   "outputs": [
    {
     "data": {
      "text/plain": [
       "<Axes: xlabel='gender', ylabel='count'>"
      ]
     },
     "execution_count": 50,
     "metadata": {},
     "output_type": "execute_result"
    },
    {
     "data": {
      "image/png": "[encoded data removed]",
      "text/plain": [
       "<Figure size 640x480 with 1 Axes>"
      ]
     },
     "metadata": {},
     "output_type": "display_data"
    }
   ],
   "source": [
    "sns.countplot(x=df['gender'],data=df)"
   ]
  },
  {
   "cell_type": "code",
   "execution_count": 51,
   "id": "6ae074fc",
   "metadata": {},
   "outputs": [
    {
     "data": {
      "text/plain": [
       "gender\n",
       "male      201\n",
       "female     96\n",
       "Name: count, dtype: int64"
      ]
     },
     "execution_count": 51,
     "metadata": {},
     "output_type": "execute_result"
    }
   ],
   "source": [
    "df['gender'].value_counts()"
   ]
  },
  {
   "cell_type": "code",
   "execution_count": 52,
   "id": "b49e1046",
   "metadata": {},
   "outputs": [
    {
     "data": {
      "text/plain": [
       "<Axes: ylabel='count'>"
      ]
     },
     "execution_count": 52,
     "metadata": {},
     "output_type": "execute_result"
    },
    {
     "data": {
      "image/png": "[encoded data removed]",
      "text/plain": [
       "<Figure size 640x480 with 1 Axes>"
      ]
     },
     "metadata": {},
     "output_type": "display_data"
    }
   ],
   "source": [
    "df['gender'].value_counts().plot(kind='pie',autopct='%1.1f%%')"
   ]
  },
  {
   "cell_type": "code",
   "execution_count": 53,
   "id": "18093e63",
   "metadata": {},
   "outputs": [
    {
     "data": {
      "text/plain": [
       "<Axes: xlabel='diagnosis', ylabel='count'>"
      ]
     },
     "execution_count": 53,
     "metadata": {},
     "output_type": "execute_result"
    },
    {
     "data": {
      "image/png": "[encoded data removed]",
      "text/plain": [
       "<Figure size 640x480 with 1 Axes>"
      ]
     },
     "metadata": {},
     "output_type": "display_data"
    }
   ],
   "source": [
    "sns.countplot(x=df['diagnosis'],data=df)"
   ]
  },
  {
   "cell_type": "code",
   "execution_count": 54,
   "id": "93a32cf5",
   "metadata": {},
   "outputs": [
    {
     "data": {
      "text/plain": [
       "diagnosis\n",
       "no     160\n",
       "yes    137\n",
       "Name: count, dtype: int64"
      ]
     },
     "execution_count": 54,
     "metadata": {},
     "output_type": "execute_result"
    }
   ],
   "source": [
    "df['diagnosis'].value_counts()"
   ]
  },
  {
   "cell_type": "code",
   "execution_count": 55,
   "id": "b9dd609a",
   "metadata": {},
   "outputs": [
    {
     "data": {
      "text/plain": [
       "<Axes: ylabel='count'>"
      ]
     },
     "execution_count": 55,
     "metadata": {},
     "output_type": "execute_result"
    },
    {
     "data": {
      "image/png": "[encoded data removed]",
      "text/plain": [
       "<Figure size 640x480 with 1 Axes>"
      ]
     },
     "metadata": {},
     "output_type": "display_data"
    }
   ],
   "source": [
    "df['diagnosis'].value_counts().plot(kind='pie',autopct='%1.1f%%')"
   ]
  },
  {
   "cell_type": "markdown",
   "id": "9b417429",
   "metadata": {},
   "source": [
    "# bi variate analysis"
   ]
  },
  {
   "cell_type": "code",
   "execution_count": 56,
   "id": "bd5cad42",
   "metadata": {},
   "outputs": [],
   "source": [
    "# catogorical columns =rest_bp,chest_pain,thalassemia,exercise_angina,gender,st_slope,num_vessels,diagnosis\n",
    "# numerical columns=age,fasting_bs,max_hr,cholesterol,st_depression,rest_ecg\n",
    "#after that the uni variate analysis as"
   ]
  },
  {
   "cell_type": "code",
   "execution_count": 57,
   "id": "e411137d",
   "metadata": {},
   "outputs": [],
   "source": [
    "#numerical vs numerical analysis"
   ]
  },
  {
   "cell_type": "code",
   "execution_count": 58,
   "id": "88ce7199",
   "metadata": {},
   "outputs": [
    {
     "data": {
      "text/plain": [
       "0      223\n",
       "1      219\n",
       "2      282\n",
       "3      407\n",
       "4      311\n",
       "      ... \n",
       "292    263\n",
       "293    248\n",
       "294    271\n",
       "295    283\n",
       "296    243\n",
       "Name: cholesterol, Length: 297, dtype: int64"
      ]
     },
     "execution_count": 58,
     "metadata": {},
     "output_type": "execute_result"
    }
   ],
   "source": [
    "df['age']\n",
    "df['cholesterol']"
   ]
  },
  {
   "cell_type": "code",
   "execution_count": 59,
   "id": "db7752b0",
   "metadata": {},
   "outputs": [
    {
     "data": {
      "text/html": [
       "<div>\n",
       "<style scoped>\n",
       "    .dataframe tbody tr th:only-of-type {\n",
       "        vertical-align: middle;\n",
       "    }\n",
       "\n",
       "    .dataframe tbody tr th {\n",
       "        vertical-align: top;\n",
       "    }\n",
       "\n",
       "    .dataframe thead th {\n",
       "        text-align: right;\n",
       "    }\n",
       "</style>\n",
       "<table border=\"1\" class=\"dataframe\">\n",
       "  <thead>\n",
       "    <tr style=\"text-align: right;\">\n",
       "      <th>age</th>\n",
       "      <th>29</th>\n",
       "      <th>34</th>\n",
       "      <th>35</th>\n",
       "      <th>37</th>\n",
       "      <th>38</th>\n",
       "      <th>39</th>\n",
       "      <th>40</th>\n",
       "      <th>41</th>\n",
       "      <th>42</th>\n",
       "      <th>43</th>\n",
       "      <th>...</th>\n",
       "      <th>65</th>\n",
       "      <th>66</th>\n",
       "      <th>67</th>\n",
       "      <th>68</th>\n",
       "      <th>69</th>\n",
       "      <th>70</th>\n",
       "      <th>71</th>\n",
       "      <th>74</th>\n",
       "      <th>76</th>\n",
       "      <th>77</th>\n",
       "    </tr>\n",
       "    <tr>\n",
       "      <th>cholesterol</th>\n",
       "      <th></th>\n",
       "      <th></th>\n",
       "      <th></th>\n",
       "      <th></th>\n",
       "      <th></th>\n",
       "      <th></th>\n",
       "      <th></th>\n",
       "      <th></th>\n",
       "      <th></th>\n",
       "      <th></th>\n",
       "      <th></th>\n",
       "      <th></th>\n",
       "      <th></th>\n",
       "      <th></th>\n",
       "      <th></th>\n",
       "      <th></th>\n",
       "      <th></th>\n",
       "      <th></th>\n",
       "      <th></th>\n",
       "      <th></th>\n",
       "      <th></th>\n",
       "    </tr>\n",
       "  </thead>\n",
       "  <tbody>\n",
       "    <tr>\n",
       "      <th>126</th>\n",
       "      <td>0</td>\n",
       "      <td>0</td>\n",
       "      <td>0</td>\n",
       "      <td>0</td>\n",
       "      <td>0</td>\n",
       "      <td>0</td>\n",
       "      <td>0</td>\n",
       "      <td>0</td>\n",
       "      <td>0</td>\n",
       "      <td>0</td>\n",
       "      <td>...</td>\n",
       "      <td>0</td>\n",
       "      <td>0</td>\n",
       "      <td>0</td>\n",
       "      <td>0</td>\n",
       "      <td>0</td>\n",
       "      <td>0</td>\n",
       "      <td>0</td>\n",
       "      <td>0</td>\n",
       "      <td>0</td>\n",
       "      <td>0</td>\n",
       "    </tr>\n",
       "    <tr>\n",
       "      <th>131</th>\n",
       "      <td>0</td>\n",
       "      <td>0</td>\n",
       "      <td>0</td>\n",
       "      <td>0</td>\n",
       "      <td>0</td>\n",
       "      <td>0</td>\n",
       "      <td>0</td>\n",
       "      <td>0</td>\n",
       "      <td>0</td>\n",
       "      <td>0</td>\n",
       "      <td>...</td>\n",
       "      <td>0</td>\n",
       "      <td>0</td>\n",
       "      <td>0</td>\n",
       "      <td>0</td>\n",
       "      <td>0</td>\n",
       "      <td>0</td>\n",
       "      <td>0</td>\n",
       "      <td>0</td>\n",
       "      <td>0</td>\n",
       "      <td>0</td>\n",
       "    </tr>\n",
       "    <tr>\n",
       "      <th>141</th>\n",
       "      <td>0</td>\n",
       "      <td>0</td>\n",
       "      <td>0</td>\n",
       "      <td>0</td>\n",
       "      <td>0</td>\n",
       "      <td>0</td>\n",
       "      <td>0</td>\n",
       "      <td>0</td>\n",
       "      <td>0</td>\n",
       "      <td>0</td>\n",
       "      <td>...</td>\n",
       "      <td>0</td>\n",
       "      <td>0</td>\n",
       "      <td>0</td>\n",
       "      <td>0</td>\n",
       "      <td>0</td>\n",
       "      <td>0</td>\n",
       "      <td>0</td>\n",
       "      <td>0</td>\n",
       "      <td>0</td>\n",
       "      <td>0</td>\n",
       "    </tr>\n",
       "    <tr>\n",
       "      <th>149</th>\n",
       "      <td>0</td>\n",
       "      <td>0</td>\n",
       "      <td>0</td>\n",
       "      <td>0</td>\n",
       "      <td>0</td>\n",
       "      <td>0</td>\n",
       "      <td>0</td>\n",
       "      <td>0</td>\n",
       "      <td>0</td>\n",
       "      <td>0</td>\n",
       "      <td>...</td>\n",
       "      <td>0</td>\n",
       "      <td>0</td>\n",
       "      <td>0</td>\n",
       "      <td>0</td>\n",
       "      <td>0</td>\n",
       "      <td>0</td>\n",
       "      <td>1</td>\n",
       "      <td>0</td>\n",
       "      <td>0</td>\n",
       "      <td>0</td>\n",
       "    </tr>\n",
       "    <tr>\n",
       "      <th>157</th>\n",
       "      <td>0</td>\n",
       "      <td>0</td>\n",
       "      <td>0</td>\n",
       "      <td>0</td>\n",
       "      <td>0</td>\n",
       "      <td>0</td>\n",
       "      <td>0</td>\n",
       "      <td>1</td>\n",
       "      <td>0</td>\n",
       "      <td>0</td>\n",
       "      <td>...</td>\n",
       "      <td>0</td>\n",
       "      <td>0</td>\n",
       "      <td>0</td>\n",
       "      <td>0</td>\n",
       "      <td>0</td>\n",
       "      <td>0</td>\n",
       "      <td>0</td>\n",
       "      <td>0</td>\n",
       "      <td>0</td>\n",
       "      <td>0</td>\n",
       "    </tr>\n",
       "    <tr>\n",
       "      <th>...</th>\n",
       "      <td>...</td>\n",
       "      <td>...</td>\n",
       "      <td>...</td>\n",
       "      <td>...</td>\n",
       "      <td>...</td>\n",
       "      <td>...</td>\n",
       "      <td>...</td>\n",
       "      <td>...</td>\n",
       "      <td>...</td>\n",
       "      <td>...</td>\n",
       "      <td>...</td>\n",
       "      <td>...</td>\n",
       "      <td>...</td>\n",
       "      <td>...</td>\n",
       "      <td>...</td>\n",
       "      <td>...</td>\n",
       "      <td>...</td>\n",
       "      <td>...</td>\n",
       "      <td>...</td>\n",
       "      <td>...</td>\n",
       "      <td>...</td>\n",
       "    </tr>\n",
       "    <tr>\n",
       "      <th>394</th>\n",
       "      <td>0</td>\n",
       "      <td>0</td>\n",
       "      <td>0</td>\n",
       "      <td>0</td>\n",
       "      <td>0</td>\n",
       "      <td>0</td>\n",
       "      <td>0</td>\n",
       "      <td>0</td>\n",
       "      <td>0</td>\n",
       "      <td>0</td>\n",
       "      <td>...</td>\n",
       "      <td>0</td>\n",
       "      <td>0</td>\n",
       "      <td>0</td>\n",
       "      <td>0</td>\n",
       "      <td>0</td>\n",
       "      <td>0</td>\n",
       "      <td>0</td>\n",
       "      <td>0</td>\n",
       "      <td>0</td>\n",
       "      <td>0</td>\n",
       "    </tr>\n",
       "    <tr>\n",
       "      <th>407</th>\n",
       "      <td>0</td>\n",
       "      <td>0</td>\n",
       "      <td>0</td>\n",
       "      <td>0</td>\n",
       "      <td>0</td>\n",
       "      <td>0</td>\n",
       "      <td>0</td>\n",
       "      <td>0</td>\n",
       "      <td>0</td>\n",
       "      <td>0</td>\n",
       "      <td>...</td>\n",
       "      <td>0</td>\n",
       "      <td>0</td>\n",
       "      <td>0</td>\n",
       "      <td>0</td>\n",
       "      <td>0</td>\n",
       "      <td>0</td>\n",
       "      <td>0</td>\n",
       "      <td>0</td>\n",
       "      <td>0</td>\n",
       "      <td>0</td>\n",
       "    </tr>\n",
       "    <tr>\n",
       "      <th>409</th>\n",
       "      <td>0</td>\n",
       "      <td>0</td>\n",
       "      <td>0</td>\n",
       "      <td>0</td>\n",
       "      <td>0</td>\n",
       "      <td>0</td>\n",
       "      <td>0</td>\n",
       "      <td>0</td>\n",
       "      <td>0</td>\n",
       "      <td>0</td>\n",
       "      <td>...</td>\n",
       "      <td>0</td>\n",
       "      <td>0</td>\n",
       "      <td>0</td>\n",
       "      <td>0</td>\n",
       "      <td>0</td>\n",
       "      <td>0</td>\n",
       "      <td>0</td>\n",
       "      <td>0</td>\n",
       "      <td>0</td>\n",
       "      <td>0</td>\n",
       "    </tr>\n",
       "    <tr>\n",
       "      <th>417</th>\n",
       "      <td>0</td>\n",
       "      <td>0</td>\n",
       "      <td>0</td>\n",
       "      <td>0</td>\n",
       "      <td>0</td>\n",
       "      <td>0</td>\n",
       "      <td>0</td>\n",
       "      <td>0</td>\n",
       "      <td>0</td>\n",
       "      <td>0</td>\n",
       "      <td>...</td>\n",
       "      <td>1</td>\n",
       "      <td>0</td>\n",
       "      <td>0</td>\n",
       "      <td>0</td>\n",
       "      <td>0</td>\n",
       "      <td>0</td>\n",
       "      <td>0</td>\n",
       "      <td>0</td>\n",
       "      <td>0</td>\n",
       "      <td>0</td>\n",
       "    </tr>\n",
       "    <tr>\n",
       "      <th>564</th>\n",
       "      <td>0</td>\n",
       "      <td>0</td>\n",
       "      <td>0</td>\n",
       "      <td>0</td>\n",
       "      <td>0</td>\n",
       "      <td>0</td>\n",
       "      <td>0</td>\n",
       "      <td>0</td>\n",
       "      <td>0</td>\n",
       "      <td>0</td>\n",
       "      <td>...</td>\n",
       "      <td>0</td>\n",
       "      <td>0</td>\n",
       "      <td>1</td>\n",
       "      <td>0</td>\n",
       "      <td>0</td>\n",
       "      <td>0</td>\n",
       "      <td>0</td>\n",
       "      <td>0</td>\n",
       "      <td>0</td>\n",
       "      <td>0</td>\n",
       "    </tr>\n",
       "  </tbody>\n",
       "</table>\n",
       "<p>152 rows × 41 columns</p>\n",
       "</div>"
      ],
      "text/plain": [
       "age          29  34  35  37  38  39  40  41  42  43  ...  65  66  67  68  69  \\\n",
       "cholesterol                                          ...                       \n",
       "126           0   0   0   0   0   0   0   0   0   0  ...   0   0   0   0   0   \n",
       "131           0   0   0   0   0   0   0   0   0   0  ...   0   0   0   0   0   \n",
       "141           0   0   0   0   0   0   0   0   0   0  ...   0   0   0   0   0   \n",
       "149           0   0   0   0   0   0   0   0   0   0  ...   0   0   0   0   0   \n",
       "157           0   0   0   0   0   0   0   1   0   0  ...   0   0   0   0   0   \n",
       "...          ..  ..  ..  ..  ..  ..  ..  ..  ..  ..  ...  ..  ..  ..  ..  ..   \n",
       "394           0   0   0   0   0   0   0   0   0   0  ...   0   0   0   0   0   \n",
       "407           0   0   0   0   0   0   0   0   0   0  ...   0   0   0   0   0   \n",
       "409           0   0   0   0   0   0   0   0   0   0  ...   0   0   0   0   0   \n",
       "417           0   0   0   0   0   0   0   0   0   0  ...   1   0   0   0   0   \n",
       "564           0   0   0   0   0   0   0   0   0   0  ...   0   0   1   0   0   \n",
       "\n",
       "age          70  71  74  76  77  \n",
       "cholesterol                      \n",
       "126           0   0   0   0   0  \n",
       "131           0   0   0   0   0  \n",
       "141           0   0   0   0   0  \n",
       "149           0   1   0   0   0  \n",
       "157           0   0   0   0   0  \n",
       "...          ..  ..  ..  ..  ..  \n",
       "394           0   0   0   0   0  \n",
       "407           0   0   0   0   0  \n",
       "409           0   0   0   0   0  \n",
       "417           0   0   0   0   0  \n",
       "564           0   0   0   0   0  \n",
       "\n",
       "[152 rows x 41 columns]"
      ]
     },
     "execution_count": 59,
     "metadata": {},
     "output_type": "execute_result"
    }
   ],
   "source": [
    "pd.crosstab(df['cholesterol'],df['age'])"
   ]
  },
  {
   "cell_type": "code",
   "execution_count": 60,
   "id": "ab40cd2f",
   "metadata": {},
   "outputs": [
    {
     "data": {
      "text/plain": [
       "0.20264354584662697"
      ]
     },
     "execution_count": 60,
     "metadata": {},
     "output_type": "execute_result"
    }
   ],
   "source": [
    "df['cholesterol'].corr(df['age'])"
   ]
  },
  {
   "cell_type": "code",
   "execution_count": 61,
   "id": "cd4c674f",
   "metadata": {},
   "outputs": [
    {
     "data": {
      "text/plain": [
       "<Axes: xlabel='cholesterol', ylabel='age'>"
      ]
     },
     "execution_count": 61,
     "metadata": {},
     "output_type": "execute_result"
    },
    {
     "data": {
      "image/png": "[encoded data removed]",
      "text/plain": [
       "<Figure size 640x480 with 1 Axes>"
      ]
     },
     "metadata": {},
     "output_type": "display_data"
    }
   ],
   "source": [
    "sns.scatterplot(x=df['cholesterol'],y=df['age'])"
   ]
  },
  {
   "cell_type": "code",
   "execution_count": 62,
   "id": "d029c0b4",
   "metadata": {},
   "outputs": [
    {
     "data": {
      "text/plain": [
       "0.197122615558668"
      ]
     },
     "execution_count": 62,
     "metadata": {},
     "output_type": "execute_result"
    }
   ],
   "source": [
    "df['st_depression'].corr(df['age'])"
   ]
  },
  {
   "cell_type": "code",
   "execution_count": 63,
   "id": "bdcd3ac0",
   "metadata": {},
   "outputs": [
    {
     "data": {
      "text/plain": [
       "<Axes: xlabel='st_depression', ylabel='age'>"
      ]
     },
     "execution_count": 63,
     "metadata": {},
     "output_type": "execute_result"
    },
    {
     "data": {
      "image/png": "[encoded data removed]",
      "text/plain": [
       "<Figure size 640x480 with 1 Axes>"
      ]
     },
     "metadata": {},
     "output_type": "display_data"
    }
   ],
   "source": [
    "sns.scatterplot(x=df['st_depression'],y=df['age'])"
   ]
  },
  {
   "cell_type": "code",
   "execution_count": 64,
   "id": "da2a2525",
   "metadata": {},
   "outputs": [
    {
     "data": {
      "text/plain": [
       "-7.456799307241313e-05"
      ]
     },
     "execution_count": 64,
     "metadata": {},
     "output_type": "execute_result"
    }
   ],
   "source": [
    "df['cholesterol'].corr(df['max_hr'])"
   ]
  },
  {
   "cell_type": "code",
   "execution_count": null,
   "id": "945d9a07",
   "metadata": {},
   "outputs": [],
   "source": []
  },
  {
   "cell_type": "code",
   "execution_count": 65,
   "id": "e163d3bb",
   "metadata": {
    "scrolled": true
   },
   "outputs": [
    {
     "data": {
      "text/plain": [
       "<Axes: xlabel='cholesterol', ylabel='max_hr'>"
      ]
     },
     "execution_count": 65,
     "metadata": {},
     "output_type": "execute_result"
    },
    {
     "data": {
      "image/png": "[encoded data removed]",
      "text/plain": [
       "<Figure size 640x480 with 1 Axes>"
      ]
     },
     "metadata": {},
     "output_type": "display_data"
    }
   ],
   "source": [
    "sns.scatterplot(x=df['cholesterol'],y=df['max_hr'])"
   ]
  },
  {
   "cell_type": "code",
   "execution_count": null,
   "id": "5ab5990a",
   "metadata": {},
   "outputs": [],
   "source": []
  },
  {
   "cell_type": "code",
   "execution_count": 66,
   "id": "703d827e",
   "metadata": {},
   "outputs": [],
   "source": [
    "#conclusion of bivariate analysis\n",
    "# cholestrol and age have little positive corelation\n",
    "# depression and cholestrol also have little positive correlation\n",
    "# cholestrol and heart rate has high negative corelation which is a fact"
   ]
  },
  {
   "cell_type": "code",
   "execution_count": null,
   "id": "402c8371",
   "metadata": {},
   "outputs": [],
   "source": []
  },
  {
   "cell_type": "code",
   "execution_count": null,
   "id": "3ab39260",
   "metadata": {},
   "outputs": [],
   "source": []
  },
  {
   "cell_type": "code",
   "execution_count": null,
   "id": "12490eae",
   "metadata": {},
   "outputs": [],
   "source": []
  },
  {
   "cell_type": "code",
   "execution_count": null,
   "id": "a2325b0f",
   "metadata": {},
   "outputs": [],
   "source": []
  },
  {
   "cell_type": "code",
   "execution_count": null,
   "id": "6760c521",
   "metadata": {},
   "outputs": [],
   "source": []
  },
  {
   "cell_type": "code",
   "execution_count": null,
   "id": "ba52f80b",
   "metadata": {},
   "outputs": [],
   "source": []
  },
  {
   "cell_type": "code",
   "execution_count": null,
   "id": "b95ed707",
   "metadata": {},
   "outputs": [],
   "source": []
  },
  {
   "cell_type": "code",
   "execution_count": null,
   "id": "49130550",
   "metadata": {},
   "outputs": [],
   "source": []
  },
  {
   "cell_type": "code",
   "execution_count": null,
   "id": "d0e768d5",
   "metadata": {},
   "outputs": [],
   "source": []
  },
  {
   "cell_type": "code",
   "execution_count": null,
   "id": "48119c71",
   "metadata": {},
   "outputs": [],
   "source": []
  },
  {
   "cell_type": "code",
   "execution_count": null,
   "id": "4030a347",
   "metadata": {},
   "outputs": [],
   "source": []
  },
  {
   "cell_type": "code",
   "execution_count": null,
   "id": "631914f9",
   "metadata": {},
   "outputs": [],
   "source": []
  },
  {
   "cell_type": "code",
   "execution_count": null,
   "id": "f2fc79cd",
   "metadata": {},
   "outputs": [],
   "source": []
  },
  {
   "cell_type": "code",
   "execution_count": null,
   "id": "aaf9dcc8",
   "metadata": {},
   "outputs": [],
   "source": []
  },
  {
   "cell_type": "code",
   "execution_count": null,
   "id": "46cc4a29",
   "metadata": {},
   "outputs": [],
   "source": []
  },
  {
   "cell_type": "code",
   "execution_count": null,
   "id": "b8acc4e9",
   "metadata": {},
   "outputs": [],
   "source": []
  },
  {
   "cell_type": "code",
   "execution_count": null,
   "id": "e1a6f316",
   "metadata": {},
   "outputs": [],
   "source": []
  },
  {
   "cell_type": "code",
   "execution_count": null,
   "id": "805937b1",
   "metadata": {},
   "outputs": [],
   "source": []
  },
  {
   "cell_type": "code",
   "execution_count": null,
   "id": "5fc5549c",
   "metadata": {},
   "outputs": [],
   "source": []
  },
  {
   "cell_type": "code",
   "execution_count": null,
   "id": "00aa75fb",
   "metadata": {},
   "outputs": [],
   "source": []
  },
  {
   "cell_type": "code",
   "execution_count": null,
   "id": "a406653f",
   "metadata": {},
   "outputs": [],
   "source": []
  },
  {
   "cell_type": "code",
   "execution_count": null,
   "id": "7cba17ae",
   "metadata": {},
   "outputs": [],
   "source": []
  }
 ],
 "metadata": {
  "kernelspec": {
   "display_name": "Python 3 (ipykernel)",
   "language": "python",
   "name": "python3"
  },
  "language_info": {
   "codemirror_mode": {
    "name": "ipython",
    "version": 3
   },
   "file_extension": ".py",
   "mimetype": "text/x-python",
   "name": "python",
   "nbconvert_exporter": "python",
   "pygments_lexer": "ipython3",
   "version": "3.11.5"
  }
 },
 "nbformat": 4,
 "nbformat_minor": 5
}
